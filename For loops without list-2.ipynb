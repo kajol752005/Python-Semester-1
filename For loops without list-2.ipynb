{
 "cells": [
  {
   "cell_type": "markdown",
   "metadata": {},
   "source": [
    "2. Given a positive integer, find out the sum of all integers from 1 up to this number."
   ]
  },
  {
   "cell_type": "code",
   "execution_count": 1,
   "metadata": {},
   "outputs": [
    {
     "name": "stdout",
     "output_type": "stream",
     "text": [
      "Value of x = 4\n",
      "sum = 10\n"
     ]
    }
   ],
   "source": [
    "x=int(input(\"Enter a positive integer:\"))\n",
    "print(\"Value of x =\",x)\n",
    "# Taking no. as input by user as integer.\n",
    "sum=0\n",
    "# Firstly take sum equal to 0\n",
    "for i in range(1,x+1):\n",
    "    sum=sum+i\n",
    "# Here i is from 1 upto x\n",
    "# Then add i to sum  \n",
    "print(\"sum =\",sum)\n",
    "# here we write print without any indentation beacuse we have to print the last output only."
   ]
  }
 ],
 "metadata": {
  "kernelspec": {
   "display_name": "Python 3",
   "language": "python",
   "name": "python3"
  },
  "language_info": {
   "codemirror_mode": {
    "name": "ipython",
    "version": 3
   },
   "file_extension": ".py",
   "mimetype": "text/x-python",
   "name": "python",
   "nbconvert_exporter": "python",
   "pygments_lexer": "ipython3",
   "version": "3.11.4"
  }
 },
 "nbformat": 4,
 "nbformat_minor": 2
}
