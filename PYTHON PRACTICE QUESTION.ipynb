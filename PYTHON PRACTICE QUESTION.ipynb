{
 "cells": [
  {
   "cell_type": "code",
   "execution_count": 1,
   "metadata": {},
   "outputs": [
    {
     "name": "stdout",
     "output_type": "stream",
     "text": [
      "4\n",
      "6\n",
      "0.6666666666666666\n"
     ]
    }
   ],
   "source": [
    "#Given two numbers a and b, find a/b (b could be zero)\n",
    "a=int(input(\"enter tha first integer: \"))#enter 1st number by user\n",
    "print(a)\n",
    "b=int(input(\"enter tha second integer: \"))#enter 2nd number by user\n",
    "print(b)\n",
    "if b==0:\n",
    "    print(\"not defined\")\n",
    "else:\n",
    "    print(a/b)"
   ]
  },
  {
   "cell_type": "code",
   "execution_count": 7,
   "metadata": {},
   "outputs": [
    {
     "name": "stdout",
     "output_type": "stream",
     "text": [
      "-3\n",
      "4\n",
      "coordinate in second quadrant\n"
     ]
    }
   ],
   "source": [
    "#given a point in 2D space,find the quadrant in which it lie.\n",
    "x=int(input(\"enter the number\"))#enter 1st number by user\n",
    "print(x)\n",
    "y=int(input(\"enter the number\"))#enter 2nd number by user\n",
    "print(y)\n",
    "if x>0 and y>0:\n",
    "    print(\"coordinates in first quadrant\")\n",
    "elif x<0 and y>0:\n",
    "    print(\"coordinate in second quadrant\")\n",
    "elif x<0 and y<0:\n",
    "    print(\"coordinates in third quadrant\")\n",
    "elif x>0 and y<0:\n",
    "    print(\"coordinate in fourth quadrant\")\n",
    "elif x==0 and y!=0:\n",
    "    print(\"point is on y axis\")\n",
    "elif y==0 and x!=0:\n",
    "    print(\"point is on x axis\")\n",
    "else:\n",
    "    print(\"point is on origin \")"
   ]
  },
  {
   "cell_type": "code",
   "execution_count": 11,
   "metadata": {},
   "outputs": [
    {
     "name": "stdout",
     "output_type": "stream",
     "text": [
      "x1 coordinate is x1 8\n",
      "y1 coordinate is 9\n",
      "x2 coordinate is x2 4\n",
      "y2 coordinate is 5\n",
      "slope 0.45454545454545453\n",
      "y intercept of the line is: 5.363636363636363\n"
     ]
    }
   ],
   "source": [
    "#3. Given two points in 2D space, find the slope and y-intercept of the line joining them. Consider all cases\n",
    "x1=int(input(\"enter the coordinate x1\"))#enter 1st number by user\n",
    "print(\"x1 coordinate is x1\",x1)\n",
    "y1=int(input(\"enter the coordinate y1\"))#enter 2nd number by user\n",
    "print(\"y1 coordinate is\",y1)\n",
    "x2=int(input(\"enter the coordinate x2\"))#enter 3rd number by user\n",
    "print(\"x2 coordinate is x2\",x2)\n",
    "y2=int(input(\"enter the coordinate y2\"))#enter 4th number by user\n",
    "print(\"y2 coordinate is\",y2)\n",
    "if(x2-x1)==0:\n",
    "    print(\"slope is 90 degree\")\n",
    "    print(\"y intercept is not defined because it is parallel to y axis\")\n",
    "else:\n",
    "    slope=(y-y1)/(x-x1)\n",
    "    print(\"slope\",slope)\n",
    "    print(\"y intercept of the line is:\",y1-slope*x1)"
   ]
  },
  {
   "cell_type": "code",
   "execution_count": 2,
   "metadata": {},
   "outputs": [
    {
     "name": "stdout",
     "output_type": "stream",
     "text": [
      "it is cold\n"
     ]
    }
   ],
   "source": [
    "#given a temp. in fahrenheit,convert it to celsius also given conditions for temp.\n",
    "temp=int(input(\"enter the temp in fahreheit\"))\n",
    "c=((temp-32)*5)/9\n",
    "if c<10:\n",
    "    print(\"it is cold\")\n",
    "elif 10<c and 25>c:\n",
    "    print(\"it is pleasant\")\n",
    "elif 25<c and 35>c:\n",
    "    print(\"it is warm\")\n",
    "else:\n",
    "    print(\"it is hot\")\n"
   ]
  },
  {
   "cell_type": "code",
   "execution_count": 4,
   "metadata": {},
   "outputs": [
    {
     "name": "stdout",
     "output_type": "stream",
     "text": [
      "4\n",
      "5\n",
      "6\n",
      "solutions are imaginary\n"
     ]
    }
   ],
   "source": [
    "#5. Given a quadratic equation with coefficients a, b and c, find the two solutions (may be real or complex). \n",
    "#You should not take the square root of a negative number in your code.\n",
    "b=int(input(\"enter the value of b\"))#enter 1st number by user\n",
    "print(b)\n",
    "a=int(input(\"enter the value of a\"))#enter 2nd number by user\n",
    "print(a)\n",
    "c=int(input(\"enter the value of c\"))#enter 3rd number by user\n",
    "print(c)\n",
    "D=b**2-4*a*c\n",
    "if D>0:\n",
    "    print(\"solutions are real \")\n",
    "elif D<0:\n",
    "    print(\"solutions are imaginary\")\n",
    "else:\n",
    "    print(\"solutions are real and equal\")"
   ]
  },
  {
   "cell_type": "code",
   "execution_count": 12,
   "metadata": {},
   "outputs": [
    {
     "name": "stdout",
     "output_type": "stream",
     "text": [
      "3\n",
      "4\n",
      "5\n",
      "6\n",
      "7\n",
      "8\n",
      "points are not in same line \n"
     ]
    }
   ],
   "source": [
    "#6.Given three points, find out whether they lie on the same straight line or not.\n",
    "y2=int(input(\"enter the coordinate y2\"))#enter 1st number by user\n",
    "print(y2)\n",
    "y1=int(input(\"enter the coordinate y1\"))#enter 2nd number by user\n",
    "print(y1)\n",
    "y3=int(input(\"enter the coordinate y3\"))#enter 3rd number by user\n",
    "print(y3)\n",
    "x3=int(input(\"enter the coordinate x3\"))#enter 4th number by user\n",
    "print(x3)\n",
    "x2=int(input(\"enter the coordinate x2\"))#enter 5th number by user\n",
    "print(x2)\n",
    "x1=int(input(\"enter the coordinate x1\"))#enter 6th number by user\n",
    "print(x1)\n",
    "slope=(y-y1)/(x-x1)\n",
    "if (y2-y1)/(x2-x1)==(y3-y1)/(x3-x1):\n",
    "    print(\"points are in same line\" )\n",
    "else:\n",
    "    print(\"points are not in same line \")"
   ]
  },
  {
   "cell_type": "code",
   "execution_count": 1,
   "metadata": {},
   "outputs": [
    {
     "name": "stdout",
     "output_type": "stream",
     "text": [
      "4\n",
      "5\n",
      "6\n",
      "c is greatest\n"
     ]
    }
   ],
   "source": [
    "#Find the greatest among three integers input by the user (show both methods.. with 'and' and without it)\n",
    "\n",
    "#METHOD-1WITH AND\n",
    "a=int(input(\"enter a integer\"))#enter 1st number by user\n",
    "print(a)\n",
    "b=int(input(\"enter a integer\"))#enter 2nd number by user\n",
    "print(b)\n",
    "c=int(input(\"enter a integer\"))#enter 3rd number by user\n",
    "print(c)\n",
    "if a>b and a>c:\n",
    "    print(\"a is greatest \")\n",
    "elif b>c:\n",
    "    print(\"b is greatest\")\n",
    "else:\n",
    "    print(\"c is greatest\")"
   ]
  },
  {
   "cell_type": "code",
   "execution_count": 2,
   "metadata": {},
   "outputs": [
    {
     "name": "stdout",
     "output_type": "stream",
     "text": [
      "5\n",
      "6\n",
      "7\n",
      "c is greatest\n"
     ]
    }
   ],
   "source": [
    "#METHOD-2 WITHOUT AND\n",
    "a=int(input(\"enter a integer\"))#enter 1st number by user\n",
    "print(a)\n",
    "b=int(input(\"enter a integer\"))#enter 2nd number by user\n",
    "print(b)\n",
    "c=int(input(\"enter a integer\"))#enter 3rd number by user\n",
    "print(c)\n",
    "if a>b:\n",
    "    if a>c:\n",
    "        print(\"a is greatest\")\n",
    "    else:\n",
    "        print(\"c is greatest\")\n",
    "elif b>c:\n",
    "    print(\"b is greatest\")\n",
    "else:\n",
    "    print(\"c is greatest\")\n"
   ]
  },
  {
   "cell_type": "code",
   "execution_count": 3,
   "metadata": {},
   "outputs": [
    {
     "name": "stdout",
     "output_type": "stream",
     "text": [
      "male weight = 52.0\n"
     ]
    }
   ],
   "source": [
    "# Find the appropriate weight of a person given the height and gender (input by user).\n",
    "gender=int(input(\"enter the gender 0 or 1\")) #enter gender 0 for male and 1 for female\n",
    "height=int(input(\"enter height in inches\" ))#enter height in inches for above 60 or equal to 60 inches only\n",
    "if gender==0:\n",
    "    m=52+1.9*(height-60) \n",
    "    print(\"male weight\",\"=\",m)\n",
    "if gender==1:\n",
    "    f=49+1.6*(height-60) \n",
    "    print(\"female weight\",\"=\",f) "
   ]
  }
 ],
 "metadata": {
  "kernelspec": {
   "display_name": "Python 3",
   "language": "python",
   "name": "python3"
  },
  "language_info": {
   "codemirror_mode": {
    "name": "ipython",
    "version": 3
   },
   "file_extension": ".py",
   "mimetype": "text/x-python",
   "name": "python",
   "nbconvert_exporter": "python",
   "pygments_lexer": "ipython3",
   "version": "3.11.6"
  }
 },
 "nbformat": 4,
 "nbformat_minor": 2
}
