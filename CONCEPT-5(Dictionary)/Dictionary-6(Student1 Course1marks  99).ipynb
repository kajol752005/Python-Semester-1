{
 "cells": [
  {
   "cell_type": "markdown",
   "metadata": {},
   "source": [
    "6. Create a dictionary to store the total marks of 5 students in the class in 3 subjects (Course1, Course2, Course3). The keys must be the student names, and the values must be the list of marks. Create another list which has the course names in the same order as the marks are stored in the dictionary values. Now write a nested for loop to print the marks for each student exam wise.\n",
    "Student1\n",
    "Course1 marks : 82\n",
    "Course2 marks : 84\n",
    "Course3 marks : 72\n",
    "Student2\n",
    "Course1 marks : 87\n",
    "Course2 marks : 83\n",
    "Course3 marks : 78"
   ]
  },
  {
   "cell_type": "code",
   "execution_count": 2,
   "metadata": {},
   "outputs": [
    {
     "name": "stdout",
     "output_type": "stream",
     "text": [
      "Kajol\n",
      "Physics : 97\n",
      "Chemistry : 96\n",
      "Maths : 86\n",
      "\n",
      "\n",
      "Gauri\n",
      "Physics : 99\n",
      "Chemistry : 98\n",
      "Maths : 91\n",
      "\n",
      "\n",
      "Riyal\n",
      "Physics : 97\n",
      "Chemistry : 96\n",
      "Maths : 95\n",
      "\n",
      "\n",
      "Anshu\n",
      "Physics : 78\n",
      "Chemistry : 86\n",
      "Maths : 94\n",
      "\n",
      "\n",
      "Yami\n",
      "Physics : 69\n",
      "Chemistry : 75\n",
      "Maths : 86\n",
      "\n",
      "\n"
     ]
    }
   ],
   "source": [
    "dict1={'Kajol':[97,96,86],'Gauri':[99,98,91],'Riyal':[97,96,95],'Anshu':[78,86,94],'Yami':[69,75,86]}\n",
    "courses=[\"Physics\",\"Chemistry\",\"Maths\"]\n",
    "\n",
    "for keys,values in dict1.items():       # taking keys from dict1 and print it.\n",
    "    print(keys)\n",
    "    for i in range(len(courses)):       # choosing the range of length of list of courses.\n",
    "        print(courses[i],\":\",values[i]) # taking course from courses and values from dict1 respectively.\n",
    "    print(\"\\n\")\n",
    "    "
   ]
  }
 ],
 "metadata": {
  "kernelspec": {
   "display_name": "Python 3",
   "language": "python",
   "name": "python3"
  },
  "language_info": {
   "codemirror_mode": {
    "name": "ipython",
    "version": 3
   },
   "file_extension": ".py",
   "mimetype": "text/x-python",
   "name": "python",
   "nbconvert_exporter": "python",
   "pygments_lexer": "ipython3",
   "version": "3.11.4"
  }
 },
 "nbformat": 4,
 "nbformat_minor": 2
}
