{
 "cells": [
  {
   "cell_type": "markdown",
   "metadata": {},
   "source": [
    "4. Create a new dictionary so that it only has the keys mentioned in another list\n",
    "sample_dict = { “name”: “Kelly”, “age”: 25, “salary”: 8000, “city”: “New york”}\n",
    "# Keys to extract\n",
    "keys = [“name”, “salary”]"
   ]
  },
  {
   "cell_type": "code",
   "execution_count": 2,
   "metadata": {},
   "outputs": [
    {
     "name": "stdout",
     "output_type": "stream",
     "text": [
      "{'name': 'Kelly', 'salary': 8000}\n"
     ]
    }
   ],
   "source": [
    "sample_dict={\"name\":\"Kelly\",\"age\":25,\"salary\":8000,\"city\":\"New york\"} # dict is given\n",
    "keys=[\"name\",\"salary\"]                                                # keys is given\n",
    "dict1={}                                                              # create an empty dict   \n",
    "for key in keys:                          # checking if the keys and key of dict are matches.                         \n",
    "    if key in sample_dict.keys():         # if matches then take it's values also.\n",
    "        dict1[key]=sample_dict[key]       \n",
    "    else:\n",
    "        print(\"key doesn't exist\")\n",
    "print(dict1)"
   ]
  }
 ],
 "metadata": {
  "kernelspec": {
   "display_name": "Python 3",
   "language": "python",
   "name": "python3"
  },
  "language_info": {
   "codemirror_mode": {
    "name": "ipython",
    "version": 3
   },
   "file_extension": ".py",
   "mimetype": "text/x-python",
   "name": "python",
   "nbconvert_exporter": "python",
   "pygments_lexer": "ipython3",
   "version": "3.11.4"
  }
 },
 "nbformat": 4,
 "nbformat_minor": 2
}
