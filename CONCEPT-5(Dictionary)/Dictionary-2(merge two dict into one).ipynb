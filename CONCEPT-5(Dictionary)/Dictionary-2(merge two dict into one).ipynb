{
 "cells": [
  {
   "cell_type": "markdown",
   "metadata": {},
   "source": [
    "2. Merge these two dictionaries into one using for loop\n",
    "dict1 = {‘Ten’: 10, ‘Twenty’: 20, ‘Thirty’: 30}\n",
    "dict2 = {‘Thirty’: 30, ‘Fourty’: 40, ‘Fifty’: 50}"
   ]
  },
  {
   "cell_type": "code",
   "execution_count": 3,
   "metadata": {},
   "outputs": [
    {
     "name": "stdout",
     "output_type": "stream",
     "text": [
      "Ten 10\n",
      "Twenty 20\n",
      "Thirty 30\n",
      "Thirty 30\n",
      "Fourty 40\n",
      "Fifty 50\n",
      "{'Ten': 10, 'Twenty': 20, 'Thirty': 30, 'Fourty': 40, 'Fifty': 50}\n"
     ]
    }
   ],
   "source": [
    "dict1 = {'Ten': 10, 'Twenty': 20, 'Thirty': 30}    # dict1 is given\n",
    "dict2 = {'Thirty': 30, 'Fourty': 40, 'Fifty': 50}  # dict2 is given\n",
    "dict3={}                                           # create an empty dict3\n",
    "for keys,values in dict1.items():           \n",
    "    dict3[keys]=values                             # taking keys and values of dict1 for dict3. \n",
    "    print(keys,values)\n",
    "for keys,values in dict2.items():                  # taking keys and values of dict2 for dict3.\n",
    "    dict3[keys]=values\n",
    "    print(keys,values)\n",
    "print(dict3)                                       "
   ]
  }
 ],
 "metadata": {
  "kernelspec": {
   "display_name": "Python 3",
   "language": "python",
   "name": "python3"
  },
  "language_info": {
   "codemirror_mode": {
    "name": "ipython",
    "version": 3
   },
   "file_extension": ".py",
   "mimetype": "text/x-python",
   "name": "python",
   "nbconvert_exporter": "python",
   "pygments_lexer": "ipython3",
   "version": "3.11.4"
  }
 },
 "nbformat": 4,
 "nbformat_minor": 2
}
