{
 "cells": [
  {
   "cell_type": "markdown",
   "metadata": {},
   "source": [
    "8. Given a list of numbers, create another list in reverse order."
   ]
  },
  {
   "cell_type": "code",
   "execution_count": 4,
   "metadata": {},
   "outputs": [
    {
     "name": "stdout",
     "output_type": "stream",
     "text": [
      "[6, 5, 4, 3, 2]\n"
     ]
    }
   ],
   "source": [
    "list1=[2,3,4,5,6]\n",
    "# here I'm taking list of numbers.\n",
    "list2=[]\n",
    "# Create an empty list to store list1 in reverse order.\n",
    "for i in list1:\n",
    "    list2.append(i)\n",
    "# for each number in list1, by using append function we add them to the empty list(list2).\n",
    "list2.reverse()\n",
    "# By using reverse function we reversed the order of numbers.\n",
    "print(list2)\n"
   ]
  }
 ],
 "metadata": {
  "kernelspec": {
   "display_name": "Python 3",
   "language": "python",
   "name": "python3"
  },
  "language_info": {
   "codemirror_mode": {
    "name": "ipython",
    "version": 3
   },
   "file_extension": ".py",
   "mimetype": "text/x-python",
   "name": "python",
   "nbconvert_exporter": "python",
   "pygments_lexer": "ipython3",
   "version": "3.11.4"
  }
 },
 "nbformat": 4,
 "nbformat_minor": 2
}
