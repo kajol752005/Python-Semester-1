{
 "cells": [
  {
   "cell_type": "markdown",
   "metadata": {},
   "source": [
    "6. Given a point (x1, y1), find the quadrant in which this point lies."
   ]
  },
  {
   "cell_type": "code",
   "execution_count": 1,
   "metadata": {},
   "outputs": [
    {
     "name": "stdout",
     "output_type": "stream",
     "text": [
      "0.0\n",
      "0.0\n",
      "Points lies in the origin.\n"
     ]
    }
   ],
   "source": [
    "x1=float(input(\"Enter a number:\"))\n",
    "print(x1)\n",
    "y1=float(input(\"Enter a number:\"))\n",
    "print(y1)\n",
    "# Here I'm taking the no. by user as input.\n",
    "# I'm taking float because input is not always integer.\n",
    "if x1>0 and y1>0:\n",
    "    print(\"Point lies in the I quadrant.\")\n",
    "# If both are positive statement get print.\n",
    "elif x1<0 and y1>0:\n",
    "    print(\"Point lies in the II quadrant.\")\n",
    "elif x1<0 and y1<0:\n",
    "    print(\"Point lies in the III quadrant.\")\n",
    "# Elif condition get check only when if condition is false.\n",
    "elif x1==0 and y1==0:\n",
    "    print(\"Points lies in the origin.\")\n",
    "else:\n",
    "    print(\"Point lies in the IV quadrant.\")   \n",
    "# If both if and elif are false else statement gets print.     "
   ]
  }
 ],
 "metadata": {
  "kernelspec": {
   "display_name": "Python 3",
   "language": "python",
   "name": "python3"
  },
  "language_info": {
   "codemirror_mode": {
    "name": "ipython",
    "version": 3
   },
   "file_extension": ".py",
   "mimetype": "text/x-python",
   "name": "python",
   "nbconvert_exporter": "python",
   "pygments_lexer": "ipython3",
   "version": "3.11.4"
  }
 },
 "nbformat": 4,
 "nbformat_minor": 2
}
