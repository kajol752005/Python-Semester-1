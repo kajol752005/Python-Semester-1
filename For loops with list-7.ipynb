{
 "cells": [
  {
   "cell_type": "markdown",
   "metadata": {},
   "source": [
    "7. Given a list of numbers, find out how many even numbers it has."
   ]
  },
  {
   "cell_type": "code",
   "execution_count": 3,
   "metadata": {},
   "outputs": [
    {
     "name": "stdout",
     "output_type": "stream",
     "text": [
      "There are 4 even numbers in list1.\n"
     ]
    }
   ],
   "source": [
    "list1=[21,234,432,54,65,57,87,76,97]\n",
    "# here I'm taking list of numbers.\n",
    "len1=0\n",
    "# create a variable and assign it to 0.\n",
    "for i in list1:\n",
    "    if i%2==0:\n",
    "# for each no. in list1 if it completely divisible by 2, then it is even.\n",
    "        len1+=1\n",
    "# And for the count of each even number add one to the assigned variable len1.    \n",
    "print(\"There are\",len1,\"even numbers in list1.\")\n",
    "\n"
   ]
  }
 ],
 "metadata": {
  "kernelspec": {
   "display_name": "Python 3",
   "language": "python",
   "name": "python3"
  },
  "language_info": {
   "codemirror_mode": {
    "name": "ipython",
    "version": 3
   },
   "file_extension": ".py",
   "mimetype": "text/x-python",
   "name": "python",
   "nbconvert_exporter": "python",
   "pygments_lexer": "ipython3",
   "version": "3.11.4"
  }
 },
 "nbformat": 4,
 "nbformat_minor": 2
}
