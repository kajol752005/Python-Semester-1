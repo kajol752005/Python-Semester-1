{
 "cells": [
  {
   "cell_type": "markdown",
   "metadata": {},
   "source": [
    "10. Given a list of numbers, find out the index of another given number."
   ]
  },
  {
   "cell_type": "code",
   "execution_count": 18,
   "metadata": {},
   "outputs": [],
   "source": [
    "def func_index(listn):\n",
    "    a=int(input(\"Enter a number:\"))        # Here we are taking a number as input by user.\n",
    "    for i in range(len(listn)):\n",
    "        if listn[i]==a:\n",
    "            return i              # if the input number is present in the list, then we return its index number.\n",
    "    return \"not present\"          # otherwise return not present."
   ]
  },
  {
   "cell_type": "code",
   "execution_count": 20,
   "metadata": {},
   "outputs": [
    {
     "data": {
      "text/plain": [
       "0"
      ]
     },
     "execution_count": 20,
     "metadata": {},
     "output_type": "execute_result"
    }
   ],
   "source": [
    "list1=[2,3,4,5,6,7]\n",
    "func_index(list1)"
   ]
  },
  {
   "cell_type": "code",
   "execution_count": 11,
   "metadata": {},
   "outputs": [
    {
     "name": "stdout",
     "output_type": "stream",
     "text": [
      "Index number of 2 is 0\n"
     ]
    }
   ],
   "source": [
    "list1=[2,3,4,5,6,7]\n",
    "a=int(input(\"Enter a number:\"))        # Here we are taking a number as input by user.\n",
    "if a in list1:                         # here, we are checking  if a number is present in the list.\n",
    "    for i in range(len(list1)):\n",
    "        if list1[i]==a:                # if the input number is present in the list, then we print its index number.\n",
    "            print(\"Index number of\",a,\"is\",i) \n",
    "else:\n",
    "    print(\"Number is not in the list\")"
   ]
  }
 ],
 "metadata": {
  "kernelspec": {
   "display_name": "Python 3",
   "language": "python",
   "name": "python3"
  },
  "language_info": {
   "codemirror_mode": {
    "name": "ipython",
    "version": 3
   },
   "file_extension": ".py",
   "mimetype": "text/x-python",
   "name": "python",
   "nbconvert_exporter": "python",
   "pygments_lexer": "ipython3",
   "version": "3.11.4"
  }
 },
 "nbformat": 4,
 "nbformat_minor": 2
}
