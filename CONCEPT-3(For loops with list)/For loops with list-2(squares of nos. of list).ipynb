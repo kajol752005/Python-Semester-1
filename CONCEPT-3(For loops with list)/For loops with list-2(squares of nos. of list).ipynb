{
 "cells": [
  {
   "cell_type": "markdown",
   "metadata": {},
   "source": [
    "2. Given a list of numbers, find the squares of all the numbers."
   ]
  },
  {
   "cell_type": "code",
   "execution_count": 11,
   "metadata": {},
   "outputs": [
    {
     "name": "stdout",
     "output_type": "stream",
     "text": [
      "25\n",
      "4\n",
      "9\n",
      "16\n",
      "36\n",
      "49\n"
     ]
    }
   ],
   "source": [
    "list1=[5,2,3,4,6,7]\n",
    "# Here we take list of numbers.\n",
    "for i in list1:\n",
    "    sqr=i**2\n",
    "# then we take numbers from list one by one and for each no. we assigned a variable to the power of 2.\n",
    "    print(sqr)\n",
    "\n"
   ]
  },
  {
   "cell_type": "code",
   "execution_count": 27,
   "metadata": {},
   "outputs": [],
   "source": [
    "def func_sqr(listn):\n",
    "    list2=[]               # we create an empty list to store that squares of listn.\n",
    "    for i in range(len(listn)):\n",
    "        sqr=listn[i]**2    # we take numbers from list one by one and for each no. we assigned a variable to the power of 2.\n",
    "        list2.append(sqr)  # we append the squares of nos. in list2.               \n",
    "    return list2\n"
   ]
  },
  {
   "cell_type": "code",
   "execution_count": 28,
   "metadata": {},
   "outputs": [
    {
     "data": {
      "text/plain": [
       "[25, 4, 9, 16, 36, 49]"
      ]
     },
     "execution_count": 28,
     "metadata": {},
     "output_type": "execute_result"
    }
   ],
   "source": [
    "list1=[5,2,3,4,6,7]\n",
    "func_sqr(list1)"
   ]
  }
 ],
 "metadata": {
  "kernelspec": {
   "display_name": "Python 3",
   "language": "python",
   "name": "python3"
  },
  "language_info": {
   "codemirror_mode": {
    "name": "ipython",
    "version": 3
   },
   "file_extension": ".py",
   "mimetype": "text/x-python",
   "name": "python",
   "nbconvert_exporter": "python",
   "pygments_lexer": "ipython3",
   "version": "3.11.4"
  }
 },
 "nbformat": 4,
 "nbformat_minor": 2
}
