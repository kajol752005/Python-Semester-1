{
 "cells": [
  {
   "cell_type": "markdown",
   "metadata": {},
   "source": [
    "5. Given a list of numbers, find all the even numbers in it."
   ]
  },
  {
   "cell_type": "code",
   "execution_count": 3,
   "metadata": {},
   "outputs": [
    {
     "name": "stdout",
     "output_type": "stream",
     "text": [
      "2\n",
      "4\n",
      "6\n",
      "8\n",
      "98\n",
      "76\n"
     ]
    }
   ],
   "source": [
    "list1=[2,3,4,5,6,7,8,9,98,76,65,33]\n",
    "# here I'm taking list of numbers.\n",
    "for x in list1:\n",
    "    if x%2==0:\n",
    "# for each no. in list1 if it completely divisible by 2, then it is even.\n",
    "        print(x)"
   ]
  },
  {
   "cell_type": "code",
   "execution_count": 14,
   "metadata": {},
   "outputs": [],
   "source": [
    "def func_even(listn):\n",
    "    list2=[]                \n",
    "    # create an empty list to store even numbers.\n",
    "    for x in list1:\n",
    "        if x%2==0:\n",
    "            # for each element in list1 which is divisible by 2 is even number.\n",
    "            list2.append(x)\n",
    "            # add even numbers to the list.\n",
    "    return list2\n",
    "# return the list of even numbers."
   ]
  },
  {
   "cell_type": "code",
   "execution_count": 15,
   "metadata": {},
   "outputs": [
    {
     "data": {
      "text/plain": [
       "[2, 4, 6, 8, 98, 76]"
      ]
     },
     "execution_count": 15,
     "metadata": {},
     "output_type": "execute_result"
    }
   ],
   "source": [
    "list1=[2,3,4,5,6,7,8,9,98,76,65,33]\n",
    "func_even(list1)"
   ]
  }
 ],
 "metadata": {
  "kernelspec": {
   "display_name": "Python 3",
   "language": "python",
   "name": "python3"
  },
  "language_info": {
   "codemirror_mode": {
    "name": "ipython",
    "version": 3
   },
   "file_extension": ".py",
   "mimetype": "text/x-python",
   "name": "python",
   "nbconvert_exporter": "python",
   "pygments_lexer": "ipython3",
   "version": "3.11.4"
  }
 },
 "nbformat": 4,
 "nbformat_minor": 2
}
