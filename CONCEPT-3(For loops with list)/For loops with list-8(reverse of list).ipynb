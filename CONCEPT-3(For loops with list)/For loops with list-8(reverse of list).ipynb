{
 "cells": [
  {
   "cell_type": "markdown",
   "metadata": {},
   "source": [
    "8. Given a list of numbers, create another list in reverse order."
   ]
  },
  {
   "cell_type": "code",
   "execution_count": 3,
   "metadata": {},
   "outputs": [
    {
     "name": "stdout",
     "output_type": "stream",
     "text": [
      "[6, 5, 4, 3, 2]\n"
     ]
    }
   ],
   "source": [
    "list1=[2,3,4,5,6]\n",
    "# here I'm taking list of numbers.\n",
    "list2=[]\n",
    "# Create an empty list to store list1 in reverse order.\n",
    "for i in range(len(list1)):\n",
    "    list2.append(list1[i])\n",
    "# here we take i as length of list starting from 0.\n",
    "# for each number in list1, by using append function we add them to the empty list(list2).\n",
    "list2.reverse()\n",
    "# By using reverse function we reversed the order of numbers.\n",
    "print(list2)\n"
   ]
  },
  {
   "cell_type": "code",
   "execution_count": 8,
   "metadata": {},
   "outputs": [],
   "source": [
    "def func_rev(listn):\n",
    "    list2=[]\n",
    "    # Create an empty list to store list1 in reverse order.\n",
    "    for i in range(len(listn)):\n",
    "        list2.append(listn[i])\n",
    "        # here we take i as length of list starting from 0.\n",
    "# for each number in listn, by using append function we add them to the empty list(list2).\n",
    "    list2.reverse()\n",
    "    # By using reverse function we reversed the order of numbers.\n",
    "    return list2"
   ]
  },
  {
   "cell_type": "code",
   "execution_count": 9,
   "metadata": {},
   "outputs": [
    {
     "data": {
      "text/plain": [
       "[6, 5, 4, 3, 2]"
      ]
     },
     "execution_count": 9,
     "metadata": {},
     "output_type": "execute_result"
    }
   ],
   "source": [
    "list1=[2,3,4,5,6]\n",
    "func_rev(list1)"
   ]
  }
 ],
 "metadata": {
  "kernelspec": {
   "display_name": "Python 3",
   "language": "python",
   "name": "python3"
  },
  "language_info": {
   "codemirror_mode": {
    "name": "ipython",
    "version": 3
   },
   "file_extension": ".py",
   "mimetype": "text/x-python",
   "name": "python",
   "nbconvert_exporter": "python",
   "pygments_lexer": "ipython3",
   "version": "3.11.4"
  }
 },
 "nbformat": 4,
 "nbformat_minor": 2
}
