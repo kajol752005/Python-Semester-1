{
 "cells": [
  {
   "cell_type": "markdown",
   "metadata": {},
   "source": [
    "6. Given a list of numbers, find all the odd numbers in it."
   ]
  },
  {
   "cell_type": "code",
   "execution_count": 7,
   "metadata": {},
   "outputs": [
    {
     "name": "stdout",
     "output_type": "stream",
     "text": [
      "67\n",
      "87\n",
      "91\n",
      "29\n"
     ]
    }
   ],
   "source": [
    "list1=[2,34,54,66,67,87,90,91,29]\n",
    "# here I'm taking list of numbers.\n",
    "for x in list1:\n",
    "    if x%2!=0:\n",
    "# for each no. in list1 if it is not divisible by 2, then it is odd number.\n",
    "        print(x)"
   ]
  },
  {
   "cell_type": "code",
   "execution_count": 5,
   "metadata": {},
   "outputs": [],
   "source": [
    "def func_odd(listn):\n",
    "    list2=[]                \n",
    "    # create an empty list to store odd numbers.\n",
    "    for x in list1:\n",
    "        if x%2!=0:\n",
    "            # for each element in list1 which is not divisible by 2 is odd number.\n",
    "            list2.append(x)\n",
    "            # add odd numbers to the list.\n",
    "    return list2\n",
    "# return the list of odd numbers."
   ]
  },
  {
   "cell_type": "code",
   "execution_count": 6,
   "metadata": {},
   "outputs": [
    {
     "data": {
      "text/plain": [
       "[67, 87, 91, 29]"
      ]
     },
     "execution_count": 6,
     "metadata": {},
     "output_type": "execute_result"
    }
   ],
   "source": [
    "list1=[2,34,54,66,67,87,90,91,29]\n",
    "func_odd(list1)"
   ]
  }
 ],
 "metadata": {
  "kernelspec": {
   "display_name": "Python 3",
   "language": "python",
   "name": "python3"
  },
  "language_info": {
   "codemirror_mode": {
    "name": "ipython",
    "version": 3
   },
   "file_extension": ".py",
   "mimetype": "text/x-python",
   "name": "python",
   "nbconvert_exporter": "python",
   "pygments_lexer": "ipython3",
   "version": "3.11.4"
  }
 },
 "nbformat": 4,
 "nbformat_minor": 2
}
