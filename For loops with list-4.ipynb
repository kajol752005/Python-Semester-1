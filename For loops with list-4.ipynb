{
 "cells": [
  {
   "cell_type": "markdown",
   "metadata": {},
   "source": [
    "4. Given a list of numbers, find out the mean and standard deviation."
   ]
  },
  {
   "cell_type": "code",
   "execution_count": 10,
   "metadata": {},
   "outputs": [
    {
     "name": "stdout",
     "output_type": "stream",
     "text": [
      "sum = 42\n",
      "length = 8\n",
      "mean = 5.25\n",
      "standard deviation = 1.3258252147247767\n"
     ]
    }
   ],
   "source": [
    "list1=[2,3,4,5,8,6,5,9]\n",
    "# here I'm taking list of numbers.\n",
    "sum1=0\n",
    "len1=0\n",
    "# create two variable and assign it to 0.\n",
    "for i in list1:\n",
    "    sum1+=i\n",
    "# we take numbers one by one from the list and add it to the assigned variable.\n",
    "    len1+=1\n",
    "# we take numbers from the list and for the count of each number add one to the assigned variable.\n",
    "print(\"sum =\",sum1)\n",
    "print(\"length =\",len1) \n",
    "# Formula of mean   \n",
    "mean=(sum1)/(len1)\n",
    "print(\"mean =\",mean)\n",
    "# Formula of standard deviation\n",
    "stan_devi=((i-mean)**2/(len1))**0.5\n",
    "print(\"standard deviation =\",stan_devi)\n"
   ]
  }
 ],
 "metadata": {
  "kernelspec": {
   "display_name": "Python 3",
   "language": "python",
   "name": "python3"
  },
  "language_info": {
   "codemirror_mode": {
    "name": "ipython",
    "version": 3
   },
   "file_extension": ".py",
   "mimetype": "text/x-python",
   "name": "python",
   "nbconvert_exporter": "python",
   "pygments_lexer": "ipython3",
   "version": "3.11.4"
  }
 },
 "nbformat": 4,
 "nbformat_minor": 2
}
