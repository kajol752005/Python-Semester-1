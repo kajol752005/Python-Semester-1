{
 "cells": [
  {
   "cell_type": "markdown",
   "metadata": {},
   "source": [
    "10. Given a list of numbers, find out the index of another given number."
   ]
  },
  {
   "cell_type": "code",
   "execution_count": 6,
   "metadata": {},
   "outputs": [
    {
     "name": "stdout",
     "output_type": "stream",
     "text": [
      "Index number of 4 is 2\n"
     ]
    }
   ],
   "source": [
    "list1=[2,3,4,5,6,7]\n",
    "# here I'm taking list of numbers.\n",
    "a=int(input(\"Enter a number:\"))\n",
    "# Here we are taking a number as input by user.\n",
    "if a in list1:\n",
    "    x=list1.index(a)\n",
    "# if the input number is present in the list, then we print its index number.\n",
    "    print(\"Index number of\",a,\"is\",x)\n",
    "else:\n",
    "    print(\"number is not in list\")    "
   ]
  }
 ],
 "metadata": {
  "kernelspec": {
   "display_name": "Python 3",
   "language": "python",
   "name": "python3"
  },
  "language_info": {
   "codemirror_mode": {
    "name": "ipython",
    "version": 3
   },
   "file_extension": ".py",
   "mimetype": "text/x-python",
   "name": "python",
   "nbconvert_exporter": "python",
   "pygments_lexer": "ipython3",
   "version": "3.11.4"
  }
 },
 "nbformat": 4,
 "nbformat_minor": 2
}
