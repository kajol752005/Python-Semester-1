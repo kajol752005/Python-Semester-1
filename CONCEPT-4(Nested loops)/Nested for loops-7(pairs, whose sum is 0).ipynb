{
 "cells": [
  {
   "cell_type": "markdown",
   "metadata": {},
   "source": [
    "7. Given a list of integers, find all pairs of integers in the list whose sum is zero."
   ]
  },
  {
   "cell_type": "code",
   "execution_count": 18,
   "metadata": {},
   "outputs": [],
   "source": [
    "def func_zero(list1):                # define a function to find pair of nos. with sum 0\n",
    "    list2=[]                         # create an empty list to store pairs.\n",
    "    for x in range(len(list1)):      # for each element in list1\n",
    "        for i in list1[x+1::]:       # running nested loop that itrate over element starting from the index (x+1)\n",
    "            if list1[x]+i==0:        # checking for those no. if we add x it becomes 0.\n",
    "                if (i,list1[x]) not in list2 and (list1[x],i) not in list2:\n",
    "                    output = (list1[x],i)\n",
    "                    list2.append(output)\n",
    "    return list2"
   ]
  },
  {
   "cell_type": "code",
   "execution_count": 20,
   "metadata": {},
   "outputs": [
    {
     "name": "stdout",
     "output_type": "stream",
     "text": [
      "[(-5, 5), (-4, 4), (-3, 3), (-2, 2), (-1, 1)] \n",
      "\n"
     ]
    }
   ],
   "source": [
    "list1=[-5,-4,-3,-2,-1,5,4,3,2,1]\n",
    "result=func_zero(list1)\n",
    "print(result,\"\\n\")"
   ]
  }
 ],
 "metadata": {
  "kernelspec": {
   "display_name": "Python 3",
   "language": "python",
   "name": "python3"
  },
  "language_info": {
   "codemirror_mode": {
    "name": "ipython",
    "version": 3
   },
   "file_extension": ".py",
   "mimetype": "text/x-python",
   "name": "python",
   "nbconvert_exporter": "python",
   "pygments_lexer": "ipython3",
   "version": "3.11.4"
  }
 },
 "nbformat": 4,
 "nbformat_minor": 2
}
