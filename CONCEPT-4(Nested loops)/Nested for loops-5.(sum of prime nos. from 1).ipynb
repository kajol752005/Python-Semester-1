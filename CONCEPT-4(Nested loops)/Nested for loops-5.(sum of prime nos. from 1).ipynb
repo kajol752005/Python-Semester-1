{
 "cells": [
  {
   "cell_type": "markdown",
   "metadata": {},
   "source": [
    "5. Given a positive integers, find out the sum of all prime numbers from 1 up to this number."
   ]
  },
  {
   "cell_type": "code",
   "execution_count": 4,
   "metadata": {},
   "outputs": [
    {
     "name": "stdout",
     "output_type": "stream",
     "text": [
      "17\n"
     ]
    }
   ],
   "source": [
    "a=int(input(\"Enter a positive number:\"))      # input by user\n",
    "if a==1:                                      # 1 is not prime nor composite.\n",
    "    print(\"a is neither prime nor composite\")\n",
    "else:\n",
    "    sum_prime=0                               # assign a variable as 0\n",
    "    for i in range(2,a+1):                   \n",
    "        b=0\n",
    "        for x in range(2,int(i**0.5)+1):\n",
    "            if i%x==0:                        # if no. is divisible by any other no. except 1 it is not prime.\n",
    "                b+=1\n",
    "        if b==0:\n",
    "           sum_prime=sum_prime+i\n",
    "print(sum_prime)         "
   ]
  },
  {
   "cell_type": "code",
   "execution_count": 5,
   "metadata": {},
   "outputs": [],
   "source": [
    "def func_sum(n):                                   # define a function to find sum of prime no.\n",
    "    if n==1:                                       # 1 is not prime nor composite.\n",
    "        return \"a is neither prime nor composite.\"\n",
    "    else:\n",
    "        sum1=0                                     # assign a variable as 0\n",
    "        for i in range(2,n+1):\n",
    "            b=0\n",
    "            for x in range(2,int(i**0.5)+1):\n",
    "                if i%x==0:                         # if no. is divisible by any other no. except 1 it is not prime.\n",
    "                    b+=1\n",
    "            if b==0:\n",
    "                sum1+=i\n",
    "    return sum1"
   ]
  },
  {
   "cell_type": "code",
   "execution_count": 8,
   "metadata": {},
   "outputs": [
    {
     "data": {
      "text/plain": [
       "17"
      ]
     },
     "execution_count": 8,
     "metadata": {},
     "output_type": "execute_result"
    }
   ],
   "source": [
    "func_sum(8)"
   ]
  }
 ],
 "metadata": {
  "kernelspec": {
   "display_name": "Python 3",
   "language": "python",
   "name": "python3"
  },
  "language_info": {
   "codemirror_mode": {
    "name": "ipython",
    "version": 3
   },
   "file_extension": ".py",
   "mimetype": "text/x-python",
   "name": "python",
   "nbconvert_exporter": "python",
   "pygments_lexer": "ipython3",
   "version": "3.11.4"
  }
 },
 "nbformat": 4,
 "nbformat_minor": 2
}
