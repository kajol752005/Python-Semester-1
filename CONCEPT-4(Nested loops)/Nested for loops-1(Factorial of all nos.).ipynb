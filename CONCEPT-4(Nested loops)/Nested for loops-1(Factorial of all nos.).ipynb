{
 "cells": [
  {
   "cell_type": "markdown",
   "metadata": {},
   "source": [
    "1. Given a list of positive integers, find the factorial of all the numbers."
   ]
  },
  {
   "cell_type": "code",
   "execution_count": 3,
   "metadata": {},
   "outputs": [
    {
     "name": "stdout",
     "output_type": "stream",
     "text": [
      "Factorial of 3 = 6\n",
      "Factorial of 4 = 24\n",
      "Factorial of 6 = 720\n",
      "Factorial of 8 = 40320\n",
      "Factorial of 9 = 362880\n",
      "Factorial of 12 = 479001600\n",
      "Factorial of 24 = 620448401733239439360000\n",
      "Factorial of 19 = 121645100408832000\n"
     ]
    }
   ],
   "source": [
    "list1=[3,4,6,8,9,12,24,19]\n",
    "# Here we take list of positive integers.\n",
    "for x in list1:\n",
    "# for the numbers in the list.\n",
    "    fact=1\n",
    "# we create a variable named fact and assigned it as 1.\n",
    "    for i in range(2,x+1):\n",
    "        fact*=i\n",
    "# for the number x in list, we take range as i from 2 to x+1(we take 2 instead of 1 because taking 1 is useless.)\n",
    "# then we multiply i to the fact and assigned it as fact.\n",
    "    print(\"Factorial of\",x,\"=\",fact)"
   ]
  },
  {
   "cell_type": "code",
   "execution_count": 4,
   "metadata": {},
   "outputs": [],
   "source": [
    "def func_fact(listn):    # we have to define a function for factorial taking input as listn.\n",
    "    list2=[]             # we create an empty list to store factorial.\n",
    "    for x in listn:      # for the numbers in the list.\n",
    "        fact=1           # we create a variable named fact and assigned it as 1.\n",
    "        for i in range(2,x+1):\n",
    "            fact*=i              # for the number x in list, we take range as i \n",
    "        list2.append(fact)       # from 2 to x+1(we take 2 instead of 1 because taking 1 is useless.)\n",
    "    return list2                 # then we multiply i to the fact and assigned it as fact.\n",
    "                                 # append the values of factorial in the list2.\n",
    "   "
   ]
  },
  {
   "cell_type": "code",
   "execution_count": 5,
   "metadata": {},
   "outputs": [
    {
     "name": "stdout",
     "output_type": "stream",
     "text": [
      "[6, 24, 720, 40320, 362880, 479001600, 620448401733239439360000, 121645100408832000] \n",
      "\n"
     ]
    }
   ],
   "source": [
    "list1=[3,4,6,8,9,12,24,19]\n",
    "result = func_fact(list1)\n",
    "print(result,\"\\n\")"
   ]
  }
 ],
 "metadata": {
  "kernelspec": {
   "display_name": "Python 3",
   "language": "python",
   "name": "python3"
  },
  "language_info": {
   "codemirror_mode": {
    "name": "ipython",
    "version": 3
   },
   "file_extension": ".py",
   "mimetype": "text/x-python",
   "name": "python",
   "nbconvert_exporter": "python",
   "pygments_lexer": "ipython3",
   "version": "3.11.4"
  }
 },
 "nbformat": 4,
 "nbformat_minor": 2
}
