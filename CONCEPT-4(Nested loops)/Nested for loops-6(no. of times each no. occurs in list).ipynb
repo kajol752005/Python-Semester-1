{
 "cells": [
  {
   "cell_type": "markdown",
   "metadata": {},
   "source": [
    "6. Given a list of numbers, find out how many times each number occurs in the list."
   ]
  },
  {
   "cell_type": "code",
   "execution_count": 14,
   "metadata": {},
   "outputs": [
    {
     "name": "stdout",
     "output_type": "stream",
     "text": [
      "[2, 4, 3, 5, 6, 7]\n",
      "2 occures 4 times in list1\n",
      "4 occures 4 times in list1\n",
      "3 occures 3 times in list1\n",
      "5 occures 3 times in list1\n",
      "6 occures 3 times in list1\n",
      "7 occures 1 times in list1\n"
     ]
    }
   ],
   "source": [
    "list1=[2,4,3,5,4,2,5,6,7,5,3,2,2,4,6,6,4,3]    # create a list of numbers.\n",
    "a=[]                                \n",
    "a.append(list1[0])                             # create an empty list to append the no. of list1 without repeatition.\n",
    "for x in list1:\n",
    "    if x not in a:\n",
    "        a.append(x)\n",
    "print(a)\n",
    "for y in a:                                    # checking for every element of our new list\n",
    "    count=0                                    \n",
    "    for x in list1:                            # if it gets matches with the no. of list1 \n",
    "        if x==y:                               # we add 1 to new variable.\n",
    "            count=count+1\n",
    "    print(y,\"occures\",count,\"times in list1\")\n"
   ]
  },
  {
   "cell_type": "code",
   "execution_count": 12,
   "metadata": {},
   "outputs": [],
   "source": [
    "def func_occur(listn):        # define a function of list.\n",
    "    a=[]                      \n",
    "    list2=[]\n",
    "    a.append(listn[0])\n",
    "    for x in listn:\n",
    "        if x not in a:\n",
    "            a.append(x)      # append the no. from listn to new empty list without repeatition of nos.\n",
    "    for y in a:              # checking for the nos. of a\n",
    "        count=0\n",
    "        for x in listn:      # if it matches with x add 1 to new variable.\n",
    "            if x==y:\n",
    "                count+=1\n",
    "                output = y,\"occures\",count,\"times in list1\"\n",
    "        list2.append(output)\n",
    "    return list2"
   ]
  },
  {
   "cell_type": "code",
   "execution_count": 13,
   "metadata": {},
   "outputs": [
    {
     "data": {
      "text/plain": [
       "[(2, 'occures', 4, 'times in list1'),\n",
       " (4, 'occures', 4, 'times in list1'),\n",
       " (3, 'occures', 3, 'times in list1'),\n",
       " (5, 'occures', 3, 'times in list1'),\n",
       " (6, 'occures', 3, 'times in list1'),\n",
       " (7, 'occures', 1, 'times in list1')]"
      ]
     },
     "execution_count": 13,
     "metadata": {},
     "output_type": "execute_result"
    }
   ],
   "source": [
    "list1=[2,4,3,5,4,2,5,6,7,5,3,2,2,4,6,6,4,3]\n",
    "func_occur(list1)"
   ]
  }
 ],
 "metadata": {
  "kernelspec": {
   "display_name": "Python 3",
   "language": "python",
   "name": "python3"
  },
  "language_info": {
   "codemirror_mode": {
    "name": "ipython",
    "version": 3
   },
   "file_extension": ".py",
   "mimetype": "text/x-python",
   "name": "python",
   "nbconvert_exporter": "python",
   "pygments_lexer": "ipython3",
   "version": "3.11.4"
  }
 },
 "nbformat": 4,
 "nbformat_minor": 2
}
