{
 "cells": [
  {
   "cell_type": "markdown",
   "metadata": {},
   "source": [
    "2. Given two numbers, find its Least Common Multiple (LCM)."
   ]
  },
  {
   "cell_type": "code",
   "execution_count": 23,
   "metadata": {},
   "outputs": [
    {
     "name": "stdout",
     "output_type": "stream",
     "text": [
      "a = 4\n",
      "b = 7\n",
      "LCM = 28\n"
     ]
    }
   ],
   "source": [
    "a=int(input(\"Enter a number:\"))  # input by user \n",
    "print(\"a =\",a)\n",
    "b=int(input(\"Enter a number:\"))  # input by user\n",
    "print(\"b =\",b)\n",
    "if a>b:                          # check which value is minimum among a, b\n",
    "    mini=b\n",
    "else:\n",
    "    mini=a\n",
    "for i in range(1,mini+1):        # divide a and b by i, where i is the range from 1 upto minimum number.\n",
    "    if a%i==0 and b%i==0:\n",
    "        hcf=i                    # if a and b both are divisible by i, hcf is equal to i.\n",
    "lcm=(a*b)//hcf                   # here we use formula: (LCM X HCF = Product of a and b)\n",
    "print(\"LCM =\",lcm)               "
   ]
  },
  {
   "cell_type": "code",
   "execution_count": 20,
   "metadata": {},
   "outputs": [],
   "source": [
    "def func_LCM(a,b):            # we define a function to find LCM of two numbers.\n",
    "    if a>b:                   # check which value is minimum among a, b\n",
    "        mini=b\n",
    "    else:\n",
    "        mini=a\n",
    "    for i in range(1,mini+1): # divide a and b by i, where i is the range from 1 upto minimum number.\n",
    "        if a%i==0 and b%i==0:\n",
    "            hcf=i             # if a and b both are divisible by i, hcf is equal to i.\n",
    "    lcm=(a*b)//hcf            # here we use formula: (LCM X HCF = Product of a and b)\n",
    "    return lcm"
   ]
  },
  {
   "cell_type": "code",
   "execution_count": 21,
   "metadata": {},
   "outputs": [
    {
     "data": {
      "text/plain": [
       "15"
      ]
     },
     "execution_count": 21,
     "metadata": {},
     "output_type": "execute_result"
    }
   ],
   "source": [
    "func_LCM(5,3)"
   ]
  }
 ],
 "metadata": {
  "kernelspec": {
   "display_name": "Python 3",
   "language": "python",
   "name": "python3"
  },
  "language_info": {
   "codemirror_mode": {
    "name": "ipython",
    "version": 3
   },
   "file_extension": ".py",
   "mimetype": "text/x-python",
   "name": "python",
   "nbconvert_exporter": "python",
   "pygments_lexer": "ipython3",
   "version": "3.11.4"
  }
 },
 "nbformat": 4,
 "nbformat_minor": 2
}
