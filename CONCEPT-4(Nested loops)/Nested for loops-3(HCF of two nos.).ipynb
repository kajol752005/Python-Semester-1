{
 "cells": [
  {
   "cell_type": "markdown",
   "metadata": {},
   "source": [
    "3. Given two numbers, find its Greatest Common Divisor (Divisor)."
   ]
  },
  {
   "cell_type": "code",
   "execution_count": 4,
   "metadata": {},
   "outputs": [
    {
     "name": "stdout",
     "output_type": "stream",
     "text": [
      "hcf = 3\n"
     ]
    }
   ],
   "source": [
    "a=int(input(\"Enter a number:\"))     # input by user.\n",
    "b=int(input(\"Enter a number:\"))     # input by user.\n",
    "if a>b:                             # we have to find the minimum among a or b.\n",
    "    mini=b\n",
    "else:\n",
    "    mini=a\n",
    "for i in range(1,mini+1):           # we are taking range from 1 to minimum and \n",
    "    if a%i==0 and b%i==0:           # check whether it is completely divisible by a and b.\n",
    "        hcf=i                       # if divisible that value is our hcf.\n",
    "print(\"hcf =\",hcf)   "
   ]
  },
  {
   "cell_type": "code",
   "execution_count": 5,
   "metadata": {},
   "outputs": [],
   "source": [
    "def func_HCF(a,b):                # we have to define a function for finding hcf of two numbers.\n",
    "    if a>b:                       # find which is minimum among two numbers.\n",
    "        mini=b\n",
    "    else:\n",
    "        mini=a\n",
    "    for i in range(1,mini+1):     # we are taking range from 1 to minimum.\n",
    "        if a%i==0 and b%i==0:     # if the number is completely divisible by a and b it is our hcf.\n",
    "            hcf = i\n",
    "    return hcf"
   ]
  },
  {
   "cell_type": "code",
   "execution_count": 6,
   "metadata": {},
   "outputs": [
    {
     "data": {
      "text/plain": [
       "3"
      ]
     },
     "execution_count": 6,
     "metadata": {},
     "output_type": "execute_result"
    }
   ],
   "source": [
    "func_HCF(3,15)"
   ]
  }
 ],
 "metadata": {
  "kernelspec": {
   "display_name": "Python 3",
   "language": "python",
   "name": "python3"
  },
  "language_info": {
   "codemirror_mode": {
    "name": "ipython",
    "version": 3
   },
   "file_extension": ".py",
   "mimetype": "text/x-python",
   "name": "python",
   "nbconvert_exporter": "python",
   "pygments_lexer": "ipython3",
   "version": "3.11.4"
  }
 },
 "nbformat": 4,
 "nbformat_minor": 2
}
