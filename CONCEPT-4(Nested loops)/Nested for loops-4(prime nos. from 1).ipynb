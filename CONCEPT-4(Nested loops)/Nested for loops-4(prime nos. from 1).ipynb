{
 "cells": [
  {
   "cell_type": "markdown",
   "metadata": {},
   "source": [
    "4. Given a positive integer, find out all prime numbers from 1 up to this number."
   ]
  },
  {
   "cell_type": "code",
   "execution_count": 17,
   "metadata": {},
   "outputs": [
    {
     "name": "stdout",
     "output_type": "stream",
     "text": [
      "2\n",
      "3\n",
      "5\n",
      "7\n",
      "11\n",
      "13\n"
     ]
    }
   ],
   "source": [
    "a=int(input(\"Enter a positive integer:\"))        # input by user.\n",
    "if a==1:                                         # 1 is not prime nor composite.\n",
    "    print(\"One is neither prime nor composite.\")\n",
    "else:\n",
    "    for i in range(2,a+1):                       # we are checking for the range of 2 to input number.\n",
    "        b=0                                      # assign a vatiable to 0\n",
    "        for x in range(2,int(i**0.5)+1):         # now applying the range from 2 to sq root of that no.+1.\n",
    "            if i%x==0:                           #the no. is divisible by any other no. add 1 to the assigned variable.\n",
    "                b+=1                  \n",
    "        if b==0:                                 # when b is 0 it is prime.\n",
    "            print(i)"
   ]
  },
  {
   "cell_type": "code",
   "execution_count": 15,
   "metadata": {},
   "outputs": [],
   "source": [
    "def func_prime(n):                                     # define a function to find prime numbers.\n",
    "    list1=[]                                           # create an empty list to store the prime number.\n",
    "    if n==1:                                           # is n is 1 the output is not prime. \n",
    "        output = \"One is neither prime nor composite.\"\n",
    "    else:\n",
    "        for i in range(2,n+1):                         # now, we are taking the range from 2 to n\n",
    "            b=0\n",
    "            for x in range(2,int(i**0.5)+1):           # and taking the range from 2 to sq. root of that no.+1\n",
    "                if i%x==0:                             # if the no. is divisible by any other no.\n",
    "                    b+=1                               # add 1 to the assigned variable\n",
    "            if b==0:                                   # if it is 0 it is prime no. \n",
    "                list1.append(i)                        # append it to the list1.\n",
    "                output = list1                         \n",
    "    return output"
   ]
  },
  {
   "cell_type": "code",
   "execution_count": 16,
   "metadata": {},
   "outputs": [
    {
     "data": {
      "text/plain": [
       "[2, 3, 5, 7, 11, 13]"
      ]
     },
     "execution_count": 16,
     "metadata": {},
     "output_type": "execute_result"
    }
   ],
   "source": [
    "func_prime(15)"
   ]
  }
 ],
 "metadata": {
  "kernelspec": {
   "display_name": "Python 3",
   "language": "python",
   "name": "python3"
  },
  "language_info": {
   "codemirror_mode": {
    "name": "ipython",
    "version": 3
   },
   "file_extension": ".py",
   "mimetype": "text/x-python",
   "name": "python",
   "nbconvert_exporter": "python",
   "pygments_lexer": "ipython3",
   "version": "3.11.4"
  }
 },
 "nbformat": 4,
 "nbformat_minor": 2
}
