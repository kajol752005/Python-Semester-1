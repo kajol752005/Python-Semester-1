{
 "cells": [
  {
   "cell_type": "markdown",
   "metadata": {},
   "source": [
    "Given a list of numbers, find out the maximum number."
   ]
  },
  {
   "cell_type": "code",
   "execution_count": 1,
   "metadata": {},
   "outputs": [
    {
     "name": "stdout",
     "output_type": "stream",
     "text": [
      "Maximum number in list1 is 555\n"
     ]
    }
   ],
   "source": [
    "list1=[2,4,6,39,6,44,555,84]\n",
    "# here I'm taking list of numbers.\n",
    "x=list1[0]\n",
    "# Here we assigned a variable to index 0 of list1, which means the first number of list1.\n",
    "for i in list1:\n",
    "    if i>x:\n",
    "        x=i\n",
    "# for each number in list1, if it is greater than the first number then x becomes equal to that number.\n",
    "print(\"Maximum number in list1 is\",x)\n",
    "\n"
   ]
  }
 ],
 "metadata": {
  "kernelspec": {
   "display_name": "Python 3",
   "language": "python",
   "name": "python3"
  },
  "language_info": {
   "codemirror_mode": {
    "name": "ipython",
    "version": 3
   },
   "file_extension": ".py",
   "mimetype": "text/x-python",
   "name": "python",
   "nbconvert_exporter": "python",
   "pygments_lexer": "ipython3",
   "version": "3.11.4"
  }
 },
 "nbformat": 4,
 "nbformat_minor": 2
}
