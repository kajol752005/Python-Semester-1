{
 "cells": [
  {
   "cell_type": "markdown",
   "metadata": {},
   "source": [
    "Given a sorted list of integers, search for a given integer using the binary search algorithm."
   ]
  },
  {
   "cell_type": "code",
   "execution_count": 14,
   "metadata": {},
   "outputs": [
    {
     "name": "stdout",
     "output_type": "stream",
     "text": [
      "Integer : 8 \n",
      " Index number : 7\n"
     ]
    }
   ],
   "source": [
    "list1 = [1,2,3,4,5,6,7,8,9]              # Create a list of numbers.\n",
    "a = 8                                    # Element to search for.\n",
    "left=0\n",
    "right=len(list1)-1                       # Taking the boundaries.\n",
    "while left<=right:                       # Binary search algorithm\n",
    "    mid = (left+right)//2                # Calculate middle index number.\n",
    "    if list1[mid]==a:                    # Middle element is matches with search element print index no.\n",
    "        print(\"Integer :\",a,\"\\n\",\"Index number :\",mid)\n",
    "        break                            # and exit the loop.\n",
    "    elif list1[mid] < a:                 # If the element is in the right half.\n",
    "        left = mid+1                     # Adjusting the boundary.\n",
    "    else:\n",
    "        right = mid-1                    # If the element is in left half, adjusting the boundary.\n",
    "else:\n",
    "    print(\"Element not found\")           # If not found print it.\n"
   ]
  }
 ],
 "metadata": {
  "kernelspec": {
   "display_name": "Python 3",
   "language": "python",
   "name": "python3"
  },
  "language_info": {
   "codemirror_mode": {
    "name": "ipython",
    "version": 3
   },
   "file_extension": ".py",
   "mimetype": "text/x-python",
   "name": "python",
   "nbconvert_exporter": "python",
   "pygments_lexer": "ipython3",
   "version": "3.11.4"
  }
 },
 "nbformat": 4,
 "nbformat_minor": 2
}
