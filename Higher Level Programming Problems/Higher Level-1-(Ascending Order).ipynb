{
 "cells": [
  {
   "cell_type": "markdown",
   "metadata": {},
   "source": [
    "Given a list of numbers, sort it in ascending order."
   ]
  },
  {
   "cell_type": "code",
   "execution_count": 44,
   "metadata": {},
   "outputs": [
    {
     "name": "stdout",
     "output_type": "stream",
     "text": [
      "[0, 1, 2, 4, 5, 6, 7, 8]\n"
     ]
    }
   ],
   "source": [
    "list1=[6,4,2,8,1,0,5,7]\n",
    "# Create a list of numbers.\n",
    "list2=[]\n",
    "# Create an empty list to store sorting list.\n",
    "for i in range(len(list1)):\n",
    "    # Taking range from 0 to len(list1)-1.\n",
    "    x=list1[0]\n",
    "    # assign a variable x and give it's value of first element.\n",
    "    for j in list1:\n",
    "        # Checking for each element one by one of list1. \n",
    "        if x>j:\n",
    "            x=j\n",
    "            # If the current element is greater than j, update x to be j.\n",
    "    list2.append(x)\n",
    "    list1.remove(x)    \n",
    "print(list2)"
   ]
  }
 ],
 "metadata": {
  "kernelspec": {
   "display_name": "Python 3",
   "language": "python",
   "name": "python3"
  },
  "language_info": {
   "codemirror_mode": {
    "name": "ipython",
    "version": 3
   },
   "file_extension": ".py",
   "mimetype": "text/x-python",
   "name": "python",
   "nbconvert_exporter": "python",
   "pygments_lexer": "ipython3",
   "version": "3.11.4"
  }
 },
 "nbformat": 4,
 "nbformat_minor": 2
}
