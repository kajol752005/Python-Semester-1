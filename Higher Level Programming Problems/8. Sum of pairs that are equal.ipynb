{
 "cells": [
  {
   "cell_type": "markdown",
   "metadata": {},
   "source": [
    "Given a list of integers, find the sum of all pairs of integers in the list that are equal."
   ]
  },
  {
   "cell_type": "code",
   "execution_count": 14,
   "metadata": {},
   "outputs": [
    {
     "name": "stdout",
     "output_type": "stream",
     "text": [
      "(5, 5) Sum is : 10\n",
      "(8, 8) Sum is : 16\n",
      "(2, 2) Sum is : 4\n",
      "(9, 9) Sum is : 18\n",
      "(0, 0) Sum is : 0\n",
      "(6, 6) Sum is : 12\n"
     ]
    }
   ],
   "source": [
    "list1 = [2,9,8,5,5,8,2,9,6,0,0,6]\n",
    "# Create a list of integers.\n",
    "list2=[]\n",
    "# Create an empty list.\n",
    "for i in list1:\n",
    "    if i not in list2:\n",
    "        list2.append(i)\n",
    "        list1.remove(i)\n",
    "# We are having now the numbers in both the list without repetition.\n",
    "for i in list1:\n",
    "    for j in list2:\n",
    "        if i==j:\n",
    "            b = i+j\n",
    "            # When numbers are equal in both the lists, sum it.\n",
    "            print((i,j),\"Sum is :\",b)"
   ]
  }
 ],
 "metadata": {
  "kernelspec": {
   "display_name": "Python 3",
   "language": "python",
   "name": "python3"
  },
  "language_info": {
   "codemirror_mode": {
    "name": "ipython",
    "version": 3
   },
   "file_extension": ".py",
   "mimetype": "text/x-python",
   "name": "python",
   "nbconvert_exporter": "python",
   "pygments_lexer": "ipython3",
   "version": "3.11.4"
  }
 },
 "nbformat": 4,
 "nbformat_minor": 2
}
