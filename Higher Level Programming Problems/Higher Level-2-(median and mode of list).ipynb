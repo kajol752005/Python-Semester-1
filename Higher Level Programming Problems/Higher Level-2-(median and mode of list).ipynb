{
 "cells": [
  {
   "cell_type": "markdown",
   "metadata": {},
   "source": [
    "Given the list of numbers, find out the median and mode."
   ]
  },
  {
   "cell_type": "code",
   "execution_count": 64,
   "metadata": {},
   "outputs": [
    {
     "name": "stdout",
     "output_type": "stream",
     "text": [
      "Mode of list : 4\n",
      "Median of list : 5\n"
     ]
    }
   ],
   "source": [
    "list1 = [2,9,8,4,3,4,6,7,8,2,7,8,9,5,4,3,3,4,5,6,7,89,6,4,3] # Create a list of numbers.\n",
    "list2=[]                                     # Create an empty list to store numbers without repetition.\n",
    "dict1={}                                     # Create a dictionary to store occurance of digits.\n",
    "for i in list1:                              # checking for each number of list1.\n",
    "    if i not in list2:                       # store it in list2 only if it is not present in it.\n",
    "        list2.append(i)                      # Now, list2 has each number only one time. \n",
    "for j in list2:                              # Checking for each number in list2.\n",
    "    count=0            \n",
    "    for i in list1:                          # if it matches with numbers of list1.\n",
    "        if j==i:                             \n",
    "            count+=1                         # add 1 to assigned variable.\n",
    "            dict1[j]=count                   # Then we add each no. in dict1 as keys and their occurance as values.\n",
    "max_count=max(dict1.values())\n",
    "for j,count in dict1.items():\n",
    "    if count==max_count:                     # For maximum occurance no. we print it's digit as a mode of our list.\n",
    "        print(\"Mode of list :\",j)          # If each digit occurs only once in list, there will be no mode of list.\n",
    "# Here I'm finding median. \n",
    "list3=[]\n",
    "for i in range(len(list1)):                  # Firstly we have to arrange the list in ascending order.\n",
    "    x=list1[0]                               # assign a variable as 1st element of list1.\n",
    "    for j in list1:                          # Checking for every element in list1.\n",
    "        if x>j:                              # If it is greater than x, update x as j.   \n",
    "            x=j\n",
    "    list3.append(x)                          # Append it in list3 and remove from list1, so that it will not repeat.\n",
    "    list1.remove(x)\n",
    "n=len(list3)                                 # Now, list3 is our sorted list.\n",
    "for i in range(n):                           # Checking for the range of length of list3.\n",
    "    if n%2!=0:                               # If the length of the list is odd, median is the middle one no. of list3.\n",
    "        b=n//2\n",
    "        median = list3[b]\n",
    "    if n%2==0:                               # If the len of the list is even, median is the avg of the two middle nos.\n",
    "        mid1=list3[(n-1)//2]                 \n",
    "        mid2=list3[n//2]\n",
    "        median = (mid1+mid2)/2\n",
    "print(\"Median of list :\",median)"
   ]
  }
 ],
 "metadata": {
  "kernelspec": {
   "display_name": "Python 3",
   "language": "python",
   "name": "python3"
  },
  "language_info": {
   "codemirror_mode": {
    "name": "ipython",
    "version": 3
   },
   "file_extension": ".py",
   "mimetype": "text/x-python",
   "name": "python",
   "nbconvert_exporter": "python",
   "pygments_lexer": "ipython3",
   "version": "3.11.4"
  }
 },
 "nbformat": 4,
 "nbformat_minor": 2
}
