{
 "cells": [
  {
   "cell_type": "markdown",
   "metadata": {},
   "source": [
    "5. Given a positive integer, find out the sum of all the odd numbers from 1 upto this number."
   ]
  },
  {
   "cell_type": "code",
   "execution_count": 2,
   "metadata": {},
   "outputs": [
    {
     "name": "stdout",
     "output_type": "stream",
     "text": [
      "Value of a = 8\n",
      "sum of odd numbers = 16\n"
     ]
    }
   ],
   "source": [
    "a=int(input(\"Enter a positive integer:\"))\n",
    "print(\"Value of a =\",a)\n",
    "# Taking input by user as integer\n",
    "sum_a=0\n",
    "# Intially we are taking a variable named sum_a be 0.\n",
    "for i in range(1,a+1):\n",
    "    if i%2!=0:\n",
    "# we are taking range 1 upto the no. a, those no. which are not divisible by 2 upto a are the odd numbers.\n",
    "# then we will add them to our assigned variable sum_a.\n",
    "        sum_a+=i\n",
    "print(\"sum of odd numbers\",\"=\",sum_a)        "
   ]
  }
 ],
 "metadata": {
  "kernelspec": {
   "display_name": "Python 3",
   "language": "python",
   "name": "python3"
  },
  "language_info": {
   "codemirror_mode": {
    "name": "ipython",
    "version": 3
   },
   "file_extension": ".py",
   "mimetype": "text/x-python",
   "name": "python",
   "nbconvert_exporter": "python",
   "pygments_lexer": "ipython3",
   "version": "3.11.4"
  }
 },
 "nbformat": 4,
 "nbformat_minor": 2
}
