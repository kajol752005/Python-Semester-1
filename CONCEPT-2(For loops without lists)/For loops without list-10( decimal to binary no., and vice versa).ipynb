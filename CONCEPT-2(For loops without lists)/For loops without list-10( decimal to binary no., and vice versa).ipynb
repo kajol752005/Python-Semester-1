{
 "cells": [
  {
   "cell_type": "markdown",
   "metadata": {},
   "source": [
    "10. Given a positive integer, convert it into binary, and vice-versa."
   ]
  },
  {
   "cell_type": "code",
   "execution_count": 17,
   "metadata": {},
   "outputs": [],
   "source": [
    "def func_bi(num):\n",
    "    list1=[]\n",
    "    while num>0:\n",
    "        # if our number is greater than 0 and not completely divisible by 2, then it will be written as 1 in binary.\n",
    "        # if it gives remainder as 0 by dividing 2, then it will be written as 0 in binary.\n",
    "        # each time we update our number, by dividing the number by 2 take it's integer form only. \n",
    "        if num%2!=0:\n",
    "            output = 1\n",
    "        else:\n",
    "            output = 0\n",
    "        num=num//2\n",
    "        list1.append(output)\n",
    "    list1.reverse()\n",
    "    return list1"
   ]
  },
  {
   "cell_type": "code",
   "execution_count": 18,
   "metadata": {},
   "outputs": [
    {
     "data": {
      "text/plain": [
       "[1, 1, 0, 0, 1]"
      ]
     },
     "execution_count": 18,
     "metadata": {},
     "output_type": "execute_result"
    }
   ],
   "source": [
    "func_bi(25)"
   ]
  },
  {
   "cell_type": "code",
   "execution_count": 19,
   "metadata": {},
   "outputs": [
    {
     "name": "stdout",
     "output_type": "stream",
     "text": [
      "25\n"
     ]
    }
   ],
   "source": [
    "list1 = [1,1,0,0,1]\n",
    "# We have to create a list of the binary number for which decimal number is going to define. \n",
    "b=0\n",
    "# we have to assign a variable b as 0, so that we can add the values in for loop in that variable. \n",
    "# In for loop we have to the range of the length of the list because it runs upto the length only.\n",
    "# we will assign a variable for storing the element of list one by one.\n",
    "# For the main formula we have to do, 2 to the power index number of list, and multiply it by the\n",
    "# element in that position and add it to the assigned variable b.\n",
    "for i in range(len(list1)):\n",
    "    x=list1[-1-i]\n",
    "    b=b+(2**i)*x\n",
    "print(b)"
   ]
  }
 ],
 "metadata": {
  "kernelspec": {
   "display_name": "Python 3",
   "language": "python",
   "name": "python3"
  },
  "language_info": {
   "codemirror_mode": {
    "name": "ipython",
    "version": 3
   },
   "file_extension": ".py",
   "mimetype": "text/x-python",
   "name": "python",
   "nbconvert_exporter": "python",
   "pygments_lexer": "ipython3",
   "version": "3.11.4"
  }
 },
 "nbformat": 4,
 "nbformat_minor": 2
}
