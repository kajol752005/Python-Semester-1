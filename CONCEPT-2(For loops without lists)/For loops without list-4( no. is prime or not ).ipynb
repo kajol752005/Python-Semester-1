{
 "cells": [
  {
   "cell_type": "markdown",
   "metadata": {},
   "source": [
    "4. Given a positive integer, find out if it's prime or not."
   ]
  },
  {
   "cell_type": "code",
   "execution_count": 1,
   "metadata": {},
   "outputs": [
    {
     "name": "stdout",
     "output_type": "stream",
     "text": [
      "Value of a = 4\n",
      "4 is not prime\n"
     ]
    }
   ],
   "source": [
    "a=int(input(\"Enter a positive integer:\"))\n",
    "print(\"Value of a =\",a)\n",
    "# Taking input by user as integer\n",
    "b=0\n",
    "#The prime no. only divisible by 1 and itself.\n",
    "#So we are assuming a variable as b and assign it the value of 0.\n",
    "#The smallest prime no. is 2, that's why we are our range from 2.\n",
    "for i in range(2,(int(a**0.5)+1)):\n",
    "    if a%i==0:\n",
    "      b+=1\n",
    "# if the number is divisible by any other no. except 1, then b will be increased by 1. \n",
    "# and if b remains 0 number is prime and if not no. is not prime.\n",
    "if b==0:\n",
    "   print(a,\"is prime\")\n",
    "else:\n",
    "   print(a,\"is not prime\")"
   ]
  }
 ],
 "metadata": {
  "kernelspec": {
   "display_name": "Python 3",
   "language": "python",
   "name": "python3"
  },
  "language_info": {
   "codemirror_mode": {
    "name": "ipython",
    "version": 3
   },
   "file_extension": ".py",
   "mimetype": "text/x-python",
   "name": "python",
   "nbconvert_exporter": "python",
   "pygments_lexer": "ipython3",
   "version": "3.11.4"
  }
 },
 "nbformat": 4,
 "nbformat_minor": 2
}
