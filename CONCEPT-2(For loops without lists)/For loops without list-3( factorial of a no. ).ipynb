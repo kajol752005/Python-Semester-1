{
 "cells": [
  {
   "cell_type": "markdown",
   "metadata": {},
   "source": [
    "3. Given a positive integer, find out its factorial."
   ]
  },
  {
   "cell_type": "code",
   "execution_count": 1,
   "metadata": {},
   "outputs": [
    {
     "name": "stdout",
     "output_type": "stream",
     "text": [
      "Value of x = 6\n",
      "Factorial = 720\n"
     ]
    }
   ],
   "source": [
    "x=int(input(\"Enter a positive integer:\"))\n",
    "print(\"Value of x =\",x)\n",
    "# Taking input by user as integer\n",
    "fac=1\n",
    "# Intially the value of fac is 1\n",
    "for i in range(2,x+1):\n",
    "    fac=fac*i\n",
    "# Then multiply fac by i to get factorial    \n",
    "print(\"Factorial =\",fac)"
   ]
  }
 ],
 "metadata": {
  "kernelspec": {
   "display_name": "Python 3",
   "language": "python",
   "name": "python3"
  },
  "language_info": {
   "codemirror_mode": {
    "name": "ipython",
    "version": 3
   },
   "file_extension": ".py",
   "mimetype": "text/x-python",
   "name": "python",
   "nbconvert_exporter": "python",
   "pygments_lexer": "ipython3",
   "version": "3.11.4"
  }
 },
 "nbformat": 4,
 "nbformat_minor": 2
}
