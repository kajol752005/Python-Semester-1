{
 "cells": [
  {
   "cell_type": "markdown",
   "metadata": {},
   "source": [
    "9. Given a positive integer, print each of its digits separately without converting the number into a string."
   ]
  },
  {
   "cell_type": "code",
   "execution_count": 2,
   "metadata": {},
   "outputs": [
    {
     "name": "stdout",
     "output_type": "stream",
     "text": [
      "Value of a= 5243\n",
      "524\n",
      "52\n",
      "5\n",
      "0\n",
      "[5, 2, 4, 3]\n"
     ]
    }
   ],
   "source": [
    "a=int(input(\"Enter a positive integer:\"))\n",
    "print(\"Value of a=\",a)\n",
    "# Taking input by user as integer\n",
    "list1=[]\n",
    "# create an empty list to store the digits.\n",
    "for i in range(a):\n",
    "    if a>0:\n",
    "        x=a%10\n",
    "        a=a//10\n",
    "        print(a)\n",
    "# firstly we take range of a, then we take a variable x and assign it to the value of remainder when a divides by 10.\n",
    "# then we take a is equal to the integer of a divided by 10.\n",
    "# we append the value of x to the empty list and reversed the list to get the original no. without converting them to string.\n",
    "        list1.append(x)\n",
    "list1.reverse()\n",
    "print(list1)        \n"
   ]
  }
 ],
 "metadata": {
  "kernelspec": {
   "display_name": "Python 3",
   "language": "python",
   "name": "python3"
  },
  "language_info": {
   "codemirror_mode": {
    "name": "ipython",
    "version": 3
   },
   "file_extension": ".py",
   "mimetype": "text/x-python",
   "name": "python",
   "nbconvert_exporter": "python",
   "pygments_lexer": "ipython3",
   "version": "3.11.4"
  }
 },
 "nbformat": 4,
 "nbformat_minor": 2
}
