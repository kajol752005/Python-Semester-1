{
 "cells": [
  {
   "cell_type": "markdown",
   "metadata": {},
   "source": [
    "1. Given a list of numbers, find out its length."
   ]
  },
  {
   "cell_type": "code",
   "execution_count": 1,
   "metadata": {},
   "outputs": [
    {
     "name": "stdout",
     "output_type": "stream",
     "text": [
      "length of list1 is 9\n"
     ]
    }
   ],
   "source": [
    "list1=[2,3,4,5,7,8,8,98,6]\n",
    "# here I'm taking list of numbers.\n",
    "len1=0\n",
    "# create a variable and assign it to 0.\n",
    "for i in list1:\n",
    "    len1+=1\n",
    "# we take numbers from the list and for the count of each number add one to the assigned variable.\n",
    "print(\"length of list1 is\",len1)"
   ]
  }
 ],
 "metadata": {
  "kernelspec": {
   "display_name": "Python 3",
   "language": "python",
   "name": "python3"
  },
  "language_info": {
   "codemirror_mode": {
    "name": "ipython",
    "version": 3
   },
   "file_extension": ".py",
   "mimetype": "text/x-python",
   "name": "python",
   "nbconvert_exporter": "python",
   "pygments_lexer": "ipython3",
   "version": "3.11.4"
  }
 },
 "nbformat": 4,
 "nbformat_minor": 2
}
