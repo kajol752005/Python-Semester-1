{
 "cells": [
  {
   "cell_type": "markdown",
   "metadata": {},
   "source": [
    "3. Given a list of numbers, find the sum of all the numbers."
   ]
  },
  {
   "cell_type": "code",
   "execution_count": 1,
   "metadata": {},
   "outputs": [
    {
     "name": "stdout",
     "output_type": "stream",
     "text": [
      "Sum of list1 is 35\n"
     ]
    }
   ],
   "source": [
    "list1=[7,5,8,6,2,4,3]\n",
    "# here I'm taking list of numbers.\n",
    "sum1=0\n",
    "# create a variable and assign it to 0.\n",
    "for i in list1:\n",
    "    sum1+=i\n",
    "# we take numbers one by one from the list and add it to the assigned variable.\n",
    "print(\"Sum of list1 is\",sum1)"
   ]
  }
 ],
 "metadata": {
  "kernelspec": {
   "display_name": "Python 3",
   "language": "python",
   "name": "python3"
  },
  "language_info": {
   "codemirror_mode": {
    "name": "ipython",
    "version": 3
   },
   "file_extension": ".py",
   "mimetype": "text/x-python",
   "name": "python",
   "nbconvert_exporter": "python",
   "pygments_lexer": "ipython3",
   "version": "3.11.4"
  }
 },
 "nbformat": 4,
 "nbformat_minor": 2
}
