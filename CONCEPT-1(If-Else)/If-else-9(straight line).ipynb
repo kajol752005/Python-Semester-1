{
 "cells": [
  {
   "cell_type": "markdown",
   "metadata": {},
   "source": [
    "9. Given three points, find out whether they lie on the same straight line or not."
   ]
  },
  {
   "cell_type": "code",
   "execution_count": 2,
   "metadata": {},
   "outputs": [
    {
     "name": "stdout",
     "output_type": "stream",
     "text": [
      "1.0\n",
      "2.0\n",
      "3.0\n",
      "4.0\n",
      "4.0\n",
      "5.0\n",
      "Points lie on the same straight line.\n"
     ]
    }
   ],
   "source": [
    "x1=float(input(\"Enter a number:\"))\n",
    "print(x1)\n",
    "y1=float(input(\"Enter a number:\"))\n",
    "print(y1)\n",
    "x2=float(input(\"Enter a number:\"))\n",
    "print(x2)\n",
    "y2=float(input(\"Enter a number:\"))\n",
    "print(y2)\n",
    "x3=float(input(\"Enter a number:\"))\n",
    "print(x3)\n",
    "y3=float(input(\"Enter a number:\"))\n",
    "print(y3)\n",
    "# Here I'm taking points by user as input as floating no.\n",
    "#Formula of slope=(y-y1)/(x-x1)\n",
    "if x1==x2==x3:\n",
    "    print(\"Point lies on the same straight line.\")\n",
    "# if value of x1,x2 and x3 are equal then the value of x gets fixed and only value of y varies. So, we get a straight line.\n",
    "elif x1!=x2!=x3:\n",
    "    (y2-y1)/(x2-x1)==(y3-y1)/(x3-x1)\n",
    "# For points lie in the same line slope of both points have to be equal.    \n",
    "    print(\"Points lie on the same straight line.\")    \n",
    "else:\n",
    "    print(\"Points not lie on the same straight line.\")"
   ]
  }
 ],
 "metadata": {
  "kernelspec": {
   "display_name": "Python 3",
   "language": "python",
   "name": "python3"
  },
  "language_info": {
   "codemirror_mode": {
    "name": "ipython",
    "version": 3
   },
   "file_extension": ".py",
   "mimetype": "text/x-python",
   "name": "python",
   "nbconvert_exporter": "python",
   "pygments_lexer": "ipython3",
   "version": "3.11.4"
  }
 },
 "nbformat": 4,
 "nbformat_minor": 2
}
