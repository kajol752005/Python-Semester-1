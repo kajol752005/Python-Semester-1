{
 "cells": [
  {
   "cell_type": "markdown",
   "metadata": {},
   "source": [
    "8. Given a quadratic equation with coefficients a, b and c, find the two solutions (may be real or complex). You should not take the square root of a negative number in your code."
   ]
  },
  {
   "cell_type": "code",
   "execution_count": 1,
   "metadata": {},
   "outputs": [
    {
     "name": "stdout",
     "output_type": "stream",
     "text": [
      "1.0\n",
      "4.0\n",
      "2.0\n",
      "-0.5857864376269049\n",
      "-3.414213562373095\n",
      "Solution is real and unequal\n"
     ]
    }
   ],
   "source": [
    "a=float(input(\"Enter a number:\"))\n",
    "print(a)\n",
    "b=float(input(\"Enter a number:\"))\n",
    "print(b)\n",
    "c=float(input(\"Enter a number:\"))\n",
    "print(c)\n",
    "# Here I'm taking no. by user as input as a floating no.\n",
    "D = b**2-4*a*c\n",
    "# This is the formula of discriminant, indicates the type of solutions of a quadratic equation.\n",
    "if D>=0:\n",
    "    x1=((-b)+(D)**0.5)/2*a\n",
    "    x2=((-b)-(D)**0.5)/2*a\n",
    "# this is the formula of finding solutions of a quadratic equation\n",
    "# We have to find both solution of x.\n",
    "    print(x1)\n",
    "    print(x2)\n",
    "    if x1==x2:\n",
    "        print(\"Solution is real and equal.\")\n",
    "    else:\n",
    "        print(\"Solution is real and unequal\") \n",
    "elif D<0:\n",
    "    x1=((-b)+(D)**0.5)/2*a\n",
    "    x2=((-b)-(D)**0.5)/2*a\n",
    "    print(x1)\n",
    "    print(x2)\n",
    "    print(\"Solution is complex.\")\n",
    "\n",
    "\n"
   ]
  }
 ],
 "metadata": {
  "kernelspec": {
   "display_name": "Python 3",
   "language": "python",
   "name": "python3"
  },
  "language_info": {
   "codemirror_mode": {
    "name": "ipython",
    "version": 3
   },
   "file_extension": ".py",
   "mimetype": "text/x-python",
   "name": "python",
   "nbconvert_exporter": "python",
   "pygments_lexer": "ipython3",
   "version": "3.11.4"
  }
 },
 "nbformat": 4,
 "nbformat_minor": 2
}
