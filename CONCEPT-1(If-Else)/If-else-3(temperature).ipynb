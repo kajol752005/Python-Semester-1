{
 "cells": [
  {
   "cell_type": "markdown",
   "metadata": {},
   "source": [
    "3. Given a temperature in Celsius, convert it to Fahrenheit using the formula F = (C * 1.8) + 32. If the temperature is above 90°F, print “It’s hot outside!” otherwise, print “The temperature is pleasant”."
   ]
  },
  {
   "cell_type": "code",
   "execution_count": 4,
   "metadata": {},
   "outputs": [
    {
     "name": "stdout",
     "output_type": "stream",
     "text": [
      "34.0\n",
      "93.2\n",
      "It's hot outside!\n"
     ]
    }
   ],
   "source": [
    "C=float(input(\"Enter a temperature in Celsius:\"))\n",
    "print(C)\n",
    "# Here I'm taking tem. in celsius by user as input.\n",
    "F=(C*1.8)+32\n",
    "print(F)\n",
    "# Formula of finding tem. in F\n",
    "if F>90:\n",
    "    print(\"It's hot outside!\")\n",
    "    \n",
    "else:\n",
    "    print(\"The temperature is pleasant\") \n",
    "\n"
   ]
  }
 ],
 "metadata": {
  "kernelspec": {
   "display_name": "Python 3",
   "language": "python",
   "name": "python3"
  },
  "language_info": {
   "codemirror_mode": {
    "name": "ipython",
    "version": 3
   },
   "file_extension": ".py",
   "mimetype": "text/x-python",
   "name": "python",
   "nbconvert_exporter": "python",
   "pygments_lexer": "ipython3",
   "version": "3.11.4"
  },
  "orig_nbformat": 4
 },
 "nbformat": 4,
 "nbformat_minor": 2
}
