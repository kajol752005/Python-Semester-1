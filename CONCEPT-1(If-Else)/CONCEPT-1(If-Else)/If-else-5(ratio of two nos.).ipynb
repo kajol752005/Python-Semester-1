{
 "cells": [
  {
   "cell_type": "markdown",
   "metadata": {},
   "source": [
    "5. Given two numbers, a and b, find the value of a/b (b may be zero)."
   ]
  },
  {
   "cell_type": "code",
   "execution_count": 15,
   "metadata": {},
   "outputs": [
    {
     "name": "stdout",
     "output_type": "stream",
     "text": [
      "4.0\n",
      "0.0\n",
      "Value is not defined.\n"
     ]
    }
   ],
   "source": [
    "a=float(input(\"Enter first number:\"))\n",
    "print(a)\n",
    "# Here I'm taking the first no. by user as input.\n",
    "b=float(input(\"Enter second number:\"))\n",
    "print(b)\n",
    "# Here I'm taking the second no. by user as input.\n",
    "# This no. taking as float b/z we have to take two numbers, neither two integers.\n",
    "if b==0:\n",
    "    print(\"Value is not defined.\")\n",
    "# if value of b is equal to 0 then, value of a/b is not defined\n",
    "else:\n",
    "    print(a/b)\n"
   ]
  }
 ],
 "metadata": {
  "kernelspec": {
   "display_name": "Python 3",
   "language": "python",
   "name": "python3"
  },
  "language_info": {
   "codemirror_mode": {
    "name": "ipython",
    "version": 3
   },
   "file_extension": ".py",
   "mimetype": "text/x-python",
   "name": "python",
   "nbconvert_exporter": "python",
   "pygments_lexer": "ipython3",
   "version": "3.11.4"
  },
  "orig_nbformat": 4
 },
 "nbformat": 4,
 "nbformat_minor": 2
}
