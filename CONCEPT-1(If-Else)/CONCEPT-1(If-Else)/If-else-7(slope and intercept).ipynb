{
 "cells": [
  {
   "cell_type": "markdown",
   "metadata": {},
   "source": [
    "7. Given two points (x1, y1) and (x2, y2), find the slope and intercept of the line joining these two points (the line may be perfectly horizontal or vertical)."
   ]
  },
  {
   "cell_type": "code",
   "execution_count": 3,
   "metadata": {},
   "outputs": [
    {
     "name": "stdout",
     "output_type": "stream",
     "text": [
      "2.0\n",
      "3.0\n",
      "2.0\n",
      "9.0\n",
      "slope is not defined.\n",
      "Line is vertical\n"
     ]
    }
   ],
   "source": [
    "x1=float(input(\"Enter a number:\"))\n",
    "print(x1)\n",
    "y1=float(input(\"Enter a number:\"))\n",
    "print(y1)\n",
    "x2=float(input(\"Enter a number:\"))\n",
    "print(x2)\n",
    "y2=float(input(\"Enter a number:\"))\n",
    "print(y2)\n",
    "# Here I'm taking the points by user as input.\n",
    "# all points are not always integer that's why I'm taking points as floating no.\n",
    "if (x2-x1)==0:\n",
    "    print(\"slope is not defined.\")\n",
    "else:\n",
    "    m=(y2-y1)/(x2-x1)        # Formula of slope of a line\n",
    "    print(m)\n",
    "if x2-x1==0:\n",
    "    print(\"Line is vertical\")\n",
    "else:\n",
    "    c=y1-m*x1             # Formula of intercept of a line\n",
    "    print(c)"
   ]
  }
 ],
 "metadata": {
  "kernelspec": {
   "display_name": "Python 3",
   "language": "python",
   "name": "python3"
  },
  "language_info": {
   "codemirror_mode": {
    "name": "ipython",
    "version": 3
   },
   "file_extension": ".py",
   "mimetype": "text/x-python",
   "name": "python",
   "nbconvert_exporter": "python",
   "pygments_lexer": "ipython3",
   "version": "3.11.4"
  }
 },
 "nbformat": 4,
 "nbformat_minor": 2
}
