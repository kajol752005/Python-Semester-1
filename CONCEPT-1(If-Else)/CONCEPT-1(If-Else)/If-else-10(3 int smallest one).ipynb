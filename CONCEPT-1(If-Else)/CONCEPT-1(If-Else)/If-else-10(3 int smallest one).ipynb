{
 "cells": [
  {
   "cell_type": "markdown",
   "metadata": {},
   "source": [
    "10. Given three integers, find the smallest one."
   ]
  },
  {
   "cell_type": "code",
   "execution_count": 3,
   "metadata": {},
   "outputs": [
    {
     "name": "stdout",
     "output_type": "stream",
     "text": [
      "2\n",
      "3\n",
      "1\n",
      "c is smallest.\n"
     ]
    }
   ],
   "source": [
    "a=int(input(\"Enter an integer:\"))\n",
    "print(a)\n",
    "b=int(input(\"Enter an integer:\"))\n",
    "print(b)\n",
    "c=int(input(\"Enter an integer:\"))\n",
    "print(c)\n",
    "# Here I'm taking no. by user as input.\n",
    "# I'm taking input as integer.\n",
    "if a<b and a<c:\n",
    "    print(\"a is smallest.\")\n",
    "# Firstly I have to check a is smaller than both b and c.\n",
    "# If any one of the condition is not satisfied, above statement get false.\n",
    "# Then I have to check the elif statement.   \n",
    "elif b<c:\n",
    "    print(\"b is smallest.\")\n",
    "# If b is smaller than c then statement get print.    \n",
    "else:\n",
    "    print(\"c is smallest.\")   \n",
    "# If both if and elif condition are false then else statement get print.         "
   ]
  }
 ],
 "metadata": {
  "kernelspec": {
   "display_name": "Python 3",
   "language": "python",
   "name": "python3"
  },
  "language_info": {
   "codemirror_mode": {
    "name": "ipython",
    "version": 3
   },
   "file_extension": ".py",
   "mimetype": "text/x-python",
   "name": "python",
   "nbconvert_exporter": "python",
   "pygments_lexer": "ipython3",
   "version": "3.11.4"
  }
 },
 "nbformat": 4,
 "nbformat_minor": 2
}
