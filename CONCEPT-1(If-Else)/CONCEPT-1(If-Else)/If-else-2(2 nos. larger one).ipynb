{
 "cells": [
  {
   "cell_type": "markdown",
   "metadata": {},
   "source": [
    "2. Given two integers, find the larger one."
   ]
  },
  {
   "cell_type": "code",
   "execution_count": 5,
   "metadata": {},
   "outputs": [
    {
     "name": "stdout",
     "output_type": "stream",
     "text": [
      "7\n",
      "7\n",
      "both are equal\n"
     ]
    }
   ],
   "source": [
    "a=int(input(\"Enter first number:\"))\n",
    "# Here I'm taking the first no. by user as input.\n",
    "print(a)\n",
    "b=int(input(\"Enter second number:\"))\n",
    "# Here I'm taking the second no. by user as input.\n",
    "print(b)\n",
    "if a>b:\n",
    "    print(\"a is greater\")\n",
    "# Print a if my first no. is greater. \n",
    "elif a==b:\n",
    "    print(\"both are equal\")\n",
    "# If my both no. are equal it get print.\n",
    "else:\n",
    "    print(\"b is greater\") \n",
    "# If both above condition are false then else statement get print."
   ]
  }
 ],
 "metadata": {
  "kernelspec": {
   "display_name": "Python 3",
   "language": "python",
   "name": "python3"
  },
  "language_info": {
   "codemirror_mode": {
    "name": "ipython",
    "version": 3
   },
   "file_extension": ".py",
   "mimetype": "text/x-python",
   "name": "python",
   "nbconvert_exporter": "python",
   "pygments_lexer": "ipython3",
   "version": "3.11.4"
  },
  "orig_nbformat": 4
 },
 "nbformat": 4,
 "nbformat_minor": 2
}
