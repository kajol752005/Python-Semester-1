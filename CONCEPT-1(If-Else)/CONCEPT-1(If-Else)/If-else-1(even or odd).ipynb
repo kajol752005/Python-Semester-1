{
 "cells": [
  {
   "cell_type": "markdown",
   "metadata": {},
   "source": [
    "1. Given an integer, check if it is even or odd."
   ]
  },
  {
   "cell_type": "code",
   "execution_count": 6,
   "metadata": {},
   "outputs": [
    {
     "name": "stdout",
     "output_type": "stream",
     "text": [
      "4\n",
      "Number is even\n"
     ]
    }
   ],
   "source": [
    "num_1=int(input(\"Enter a number:\"))\n",
    "# Here I'm taking a number by user as input\n",
    "print(num_1)\n",
    "# Here I'm printing the value of input\n",
    "if num_1 % 2 == 0:\n",
    "    print(\"Number is even\")\n",
    "# If my input number is fully divided by 2 and there is no remainder then the no. is even.\n",
    "else:\n",
    "    print(\"Number is odd\")\n",
    "# If there is any remainder after dividing by 2 then the no. is odd.\n"
   ]
  }
 ],
 "metadata": {
  "kernelspec": {
   "display_name": "Python 3",
   "language": "python",
   "name": "python3"
  },
  "language_info": {
   "codemirror_mode": {
    "name": "ipython",
    "version": 3
   },
   "file_extension": ".py",
   "mimetype": "text/x-python",
   "name": "python",
   "nbconvert_exporter": "python",
   "pygments_lexer": "ipython3",
   "version": "3.11.4"
  },
  "orig_nbformat": 4
 },
 "nbformat": 4,
 "nbformat_minor": 2
}
