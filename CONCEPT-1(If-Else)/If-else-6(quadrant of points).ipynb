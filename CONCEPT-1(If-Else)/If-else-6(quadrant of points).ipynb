{
 "cells": [
  {
   "cell_type": "markdown",
   "metadata": {},
   "source": [
    "6. Given a point (x1, y1), find the quadrant in which this point lies."
   ]
  },
  {
   "cell_type": "code",
   "execution_count": 1,
   "metadata": {},
   "outputs": [
    {
     "name": "stdout",
     "output_type": "stream",
     "text": [
      "0.0\n",
      "0.0\n",
      "Point lies on the origin.\n"
     ]
    }
   ],
   "source": [
    "x1=float(input(\"Enter a number:\"))\n",
    "print(x1)\n",
    "y1=float(input(\"Enter a number:\"))\n",
    "print(y1)\n",
    "# Here I'm taking the no. by user as input.\n",
    "# I'm taking float because input is not always integer.\n",
    "if x1>0:\n",
    "    if y1>0:\n",
    "        print(\"Point lies on the I quadrant.\")\n",
    "    elif y1<0:\n",
    "        print(\"Point lies on the IV quadrant\")\n",
    "    else:\n",
    "        print(\"Point lies on the positive x-axis\")\n",
    "# In above condition we are checking for x>0 and we consider all cases of y (y>0,y<0,y=0)\n",
    "# If this condition satisfies the above statements gets print as per the input and other conditions remains unchecked.\n",
    "elif x1<0:\n",
    "    if y1>0:\n",
    "        print(\"Point lies on the II quadrant.\")\n",
    "    elif y1<0:\n",
    "        print(\"Point lies on the III quadrant\")\n",
    "    else:\n",
    "        print(\"Point lies on the negative x-axis\") \n",
    "# In above condition we are checking for x<0 and we consider all cases of y (y>0,y<0,y=0)\n",
    "# If the 1st condition not satisfies then this will be checked, and if this is true then the above statements gets print as per the input and else condition remains unchecked.\n",
    "else:\n",
    "    if y1>0:\n",
    "        print(\"Point lies on the positive y-axis.\")\n",
    "    elif y1<0:\n",
    "        print(\"Point lies on the negative y-axis\")\n",
    "    else:\n",
    "        print(\"Point lies on the origin.\") \n",
    "# In above condition we are checking for x=0 and we consider all cases of y (y>0,y<0,y=0)\n",
    "# We do not write condition after else statement.\n",
    "# If none of the above conditions are true then the above statements gets print as per the input.\n",
    "\n",
    "     "
   ]
  }
 ],
 "metadata": {
  "kernelspec": {
   "display_name": "Python 3",
   "language": "python",
   "name": "python3"
  },
  "language_info": {
   "codemirror_mode": {
    "name": "ipython",
    "version": 3
   },
   "file_extension": ".py",
   "mimetype": "text/x-python",
   "name": "python",
   "nbconvert_exporter": "python",
   "pygments_lexer": "ipython3",
   "version": "3.11.4"
  }
 },
 "nbformat": 4,
 "nbformat_minor": 2
}
